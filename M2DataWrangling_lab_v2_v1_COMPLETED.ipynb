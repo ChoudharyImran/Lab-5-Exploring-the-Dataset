{
  "cells": [
    {
      "cell_type": "markdown",
      "metadata": {
        "id": "view-in-github",
        "colab_type": "text"
      },
      "source": [
        "<a href=\"https://colab.research.google.com/github/ChoudharyImran/Lab-5-Exploring-the-Dataset/blob/main/M2DataWrangling_lab_v2_v1_COMPLETED.ipynb\" target=\"_parent\"><img src=\"https://colab.research.google.com/assets/colab-badge.svg\" alt=\"Open In Colab\"/></a>"
      ]
    },
    {
      "cell_type": "markdown",
      "metadata": {
        "id": "d8be15d8-fa8b-4b4f-94d7-39ed53321abd"
      },
      "source": [
        "<p style=\"text-align:center\">\n",
        "    <a href=\"https://skills.network\" target=\"_blank\">\n",
        "    <img src=\"https://cf-courses-data.s3.us.cloud-object-storage.appdomain.cloud/assets/logos/SN_web_lightmode.png\" width=\"200\" alt=\"Skills Network Logo\"  />\n",
        "    </a>\n",
        "</p>\n"
      ]
    },
    {
      "cell_type": "markdown",
      "metadata": {
        "id": "ee706056-1bac-4cb0-820e-b9824ebdb12a"
      },
      "source": [
        "# **Data Wrangling Lab**\n"
      ]
    },
    {
      "cell_type": "markdown",
      "metadata": {
        "id": "51dc38be-5625-4c22-b622-dca1d20a2134"
      },
      "source": [
        "Estimated time needed: **45** minutes\n"
      ]
    },
    {
      "cell_type": "markdown",
      "metadata": {
        "id": "03086336-ee63-4d6a-a1ce-d243006d7057"
      },
      "source": [
        "In this lab, you will perform data wrangling tasks to prepare raw data for analysis. Data wrangling involves cleaning, transforming, and organizing data into a structured format suitable for analysis. This lab focuses on tasks like identifying inconsistencies, encoding categorical variables, and feature transformation.\n"
      ]
    },
    {
      "cell_type": "markdown",
      "metadata": {
        "id": "e223ac3e-4f39-44fa-a3fe-e1e0badf69ac"
      },
      "source": [
        "## Objectives\n"
      ]
    },
    {
      "cell_type": "markdown",
      "metadata": {
        "id": "1cddaf13-6966-4047-aa87-daebb0727a7b"
      },
      "source": [
        "After completing this lab, you will be able to:\n"
      ]
    },
    {
      "cell_type": "markdown",
      "metadata": {
        "id": "b268cb62-6e7c-4d79-be7c-d946a22c6923"
      },
      "source": [
        "- Identify and remove inconsistent data entries.\n",
        "\n",
        "- Encode categorical variables for analysis.\n",
        "\n",
        "- Handle missing values using multiple imputation strategies.\n",
        "\n",
        "- Apply feature scaling and transformation techniques.\n"
      ]
    },
    {
      "cell_type": "markdown",
      "metadata": {
        "id": "2c9b4baf-895a-4feb-9b7e-a15aedf316ad"
      },
      "source": [
        "#### Intsall the required libraries\n"
      ]
    },
    {
      "cell_type": "code",
      "metadata": {
        "colab": {
          "base_uri": "https://localhost:8080/"
        },
        "id": "73057dbb-7947-47cb-a232-3b73ed6a98c3",
        "outputId": "92bfbc7d-c2e1-4d53-badd-0f4f03c5800c"
      },
      "outputs": [
        {
          "output_type": "stream",
          "name": "stdout",
          "text": [
            "Requirement already satisfied: pandas in /usr/local/lib/python3.12/dist-packages (2.2.2)\n",
            "Requirement already satisfied: numpy>=1.26.0 in /usr/local/lib/python3.12/dist-packages (from pandas) (2.0.2)\n",
            "Requirement already satisfied: python-dateutil>=2.8.2 in /usr/local/lib/python3.12/dist-packages (from pandas) (2.9.0.post0)\n",
            "Requirement already satisfied: pytz>=2020.1 in /usr/local/lib/python3.12/dist-packages (from pandas) (2025.2)\n",
            "Requirement already satisfied: tzdata>=2022.7 in /usr/local/lib/python3.12/dist-packages (from pandas) (2025.2)\n",
            "Requirement already satisfied: six>=1.5 in /usr/local/lib/python3.12/dist-packages (from python-dateutil>=2.8.2->pandas) (1.17.0)\n",
            "Requirement already satisfied: matplotlib in /usr/local/lib/python3.12/dist-packages (3.10.0)\n",
            "Requirement already satisfied: contourpy>=1.0.1 in /usr/local/lib/python3.12/dist-packages (from matplotlib) (1.3.3)\n",
            "Requirement already satisfied: cycler>=0.10 in /usr/local/lib/python3.12/dist-packages (from matplotlib) (0.12.1)\n",
            "Requirement already satisfied: fonttools>=4.22.0 in /usr/local/lib/python3.12/dist-packages (from matplotlib) (4.59.1)\n",
            "Requirement already satisfied: kiwisolver>=1.3.1 in /usr/local/lib/python3.12/dist-packages (from matplotlib) (1.4.9)\n",
            "Requirement already satisfied: numpy>=1.23 in /usr/local/lib/python3.12/dist-packages (from matplotlib) (2.0.2)\n",
            "Requirement already satisfied: packaging>=20.0 in /usr/local/lib/python3.12/dist-packages (from matplotlib) (25.0)\n",
            "Requirement already satisfied: pillow>=8 in /usr/local/lib/python3.12/dist-packages (from matplotlib) (11.3.0)\n",
            "Requirement already satisfied: pyparsing>=2.3.1 in /usr/local/lib/python3.12/dist-packages (from matplotlib) (3.2.3)\n",
            "Requirement already satisfied: python-dateutil>=2.7 in /usr/local/lib/python3.12/dist-packages (from matplotlib) (2.9.0.post0)\n",
            "Requirement already satisfied: six>=1.5 in /usr/local/lib/python3.12/dist-packages (from python-dateutil>=2.7->matplotlib) (1.17.0)\n"
          ]
        }
      ],
      "source": [
        "!pip install pandas\n",
        "!pip install matplotlib"
      ],
      "execution_count": 3
    },
    {
      "cell_type": "markdown",
      "metadata": {
        "id": "37b8c69b-ce80-4c51-bef1-fa344e72a840"
      },
      "source": [
        "## Tasks\n"
      ]
    },
    {
      "cell_type": "markdown",
      "metadata": {
        "id": "9944eb65-42f7-4a97-bc2a-87f69456a1a4"
      },
      "source": [
        "#### Step 1: Import the necessary module.\n"
      ]
    },
    {
      "cell_type": "markdown",
      "metadata": {
        "id": "6f636b4c-6417-4cbc-a15d-da5bdab947e7"
      },
      "source": [
        "### 1. Load the Dataset\n"
      ]
    },
    {
      "cell_type": "markdown",
      "metadata": {
        "id": "d0302abc-6d29-4f75-9023-8bfd18365412"
      },
      "source": [
        "<h5>1.1 Import necessary libraries and load the dataset.</h5>\n"
      ]
    },
    {
      "cell_type": "markdown",
      "metadata": {
        "id": "d1acfb07-c289-45fc-a4a3-20bcad583eed"
      },
      "source": [
        "Ensure the dataset is loaded correctly by displaying the first few rows.\n"
      ]
    },
    {
      "cell_type": "code",
      "metadata": {
        "colab": {
          "base_uri": "https://localhost:8080/"
        },
        "id": "417bbb3f-df8d-45ec-8d6e-8f695d9a4a25",
        "outputId": "0122bc9f-c50f-4b38-93af-c16b40d65a56"
      },
      "outputs": [
        {
          "output_type": "stream",
          "name": "stdout",
          "text": [
            "   ResponseId                      MainBranch                 Age  \\\n",
            "0           1  I am a developer by profession  Under 18 years old   \n",
            "1           2  I am a developer by profession     35-44 years old   \n",
            "2           3  I am a developer by profession     45-54 years old   \n",
            "3           4           I am learning to code     18-24 years old   \n",
            "4           5  I am a developer by profession     18-24 years old   \n",
            "\n",
            "            Employment RemoteWork   Check  \\\n",
            "0  Employed, full-time     Remote  Apples   \n",
            "1  Employed, full-time     Remote  Apples   \n",
            "2  Employed, full-time     Remote  Apples   \n",
            "3   Student, full-time        NaN  Apples   \n",
            "4   Student, full-time        NaN  Apples   \n",
            "\n",
            "                                    CodingActivities  \\\n",
            "0                                              Hobby   \n",
            "1  Hobby;Contribute to open-source projects;Other...   \n",
            "2  Hobby;Contribute to open-source projects;Other...   \n",
            "3                                                NaN   \n",
            "4                                                NaN   \n",
            "\n",
            "                                             EdLevel  \\\n",
            "0                          Primary/elementary school   \n",
            "1       Bachelor’s degree (B.A., B.S., B.Eng., etc.)   \n",
            "2    Master’s degree (M.A., M.S., M.Eng., MBA, etc.)   \n",
            "3  Some college/university study without earning ...   \n",
            "4  Secondary school (e.g. American high school, G...   \n",
            "\n",
            "                                           LearnCode  \\\n",
            "0                             Books / Physical media   \n",
            "1  Books / Physical media;Colleague;On the job tr...   \n",
            "2  Books / Physical media;Colleague;On the job tr...   \n",
            "3  Other online resources (e.g., videos, blogs, f...   \n",
            "4  Other online resources (e.g., videos, blogs, f...   \n",
            "\n",
            "                                     LearnCodeOnline  ... JobSatPoints_6  \\\n",
            "0                                                NaN  ...            NaN   \n",
            "1  Technical documentation;Blogs;Books;Written Tu...  ...            0.0   \n",
            "2  Technical documentation;Blogs;Books;Written Tu...  ...            NaN   \n",
            "3  Stack Overflow;How-to videos;Interactive tutorial  ...            NaN   \n",
            "4  Technical documentation;Blogs;Written Tutorial...  ...            NaN   \n",
            "\n",
            "  JobSatPoints_7 JobSatPoints_8 JobSatPoints_9 JobSatPoints_10  \\\n",
            "0            NaN            NaN            NaN             NaN   \n",
            "1            0.0            0.0            0.0             0.0   \n",
            "2            NaN            NaN            NaN             NaN   \n",
            "3            NaN            NaN            NaN             NaN   \n",
            "4            NaN            NaN            NaN             NaN   \n",
            "\n",
            "  JobSatPoints_11           SurveyLength SurveyEase ConvertedCompYearly JobSat  \n",
            "0             NaN                    NaN        NaN                 NaN    NaN  \n",
            "1             0.0                    NaN        NaN                 NaN    NaN  \n",
            "2             NaN  Appropriate in length       Easy                 NaN    NaN  \n",
            "3             NaN               Too long       Easy                 NaN    NaN  \n",
            "4             NaN              Too short       Easy                 NaN    NaN  \n",
            "\n",
            "[5 rows x 114 columns]\n"
          ]
        }
      ],
      "source": [
        "# Import necessary libraries\n",
        "import pandas as pd\n",
        "\n",
        "# Load the Stack Overflow survey data\n",
        "dataset_url = \"https://cf-courses-data.s3.us.cloud-object-storage.appdomain.cloud/n01PQ9pSmiRX6520flujwQ/survey-data.csv\"\n",
        "df = pd.read_csv(dataset_url)\n",
        "\n",
        "# Display the first few rows\n",
        "print(df.head())\n"
      ],
      "execution_count": 2
    },
    {
      "cell_type": "markdown",
      "metadata": {
        "id": "5c7df306-0dd0-4566-a376-bad64fbf6455"
      },
      "source": [
        "#### 2. Explore the Dataset\n"
      ]
    },
    {
      "cell_type": "markdown",
      "metadata": {
        "id": "0a7b356e-a83e-478a-bd04-da95500e0304"
      },
      "source": [
        "<h5>2.1 Summarize the dataset by displaying the column data types, counts, and missing values.</h5>\n"
      ]
    },
    {
      "cell_type": "code",
      "metadata": {
        "colab": {
          "base_uri": "https://localhost:8080/"
        },
        "id": "a5b368e2-4d3c-4382-9b1c-458be459ecef",
        "outputId": "e82903fe-f2de-4da3-b8c6-6643e3342607"
      },
      "outputs": [
        {
          "output_type": "stream",
          "name": "stdout",
          "text": [
            "Dataset shape: (65437, 114)\n",
            "\n",
            "Column data types and missing values:\n",
            "<class 'pandas.core.frame.DataFrame'>\n",
            "RangeIndex: 65437 entries, 0 to 65436\n",
            "Columns: 114 entries, ResponseId to JobSat\n",
            "dtypes: float64(13), int64(1), object(100)\n",
            "memory usage: 56.9+ MB\n",
            "None\n",
            "\n",
            "Missing values count:\n",
            "AINextMuch less integrated    64289\n",
            "AINextLess integrated         63082\n",
            "AINextNo change               52939\n",
            "AINextMuch more integrated    51999\n",
            "EmbeddedAdmired               48704\n",
            "                              ...  \n",
            "MainBranch                        0\n",
            "Age                               0\n",
            "Employment                        0\n",
            "Check                             0\n",
            "ResponseId                        0\n",
            "Length: 114, dtype: int64\n"
          ]
        }
      ],
      "source": [
        "# Dataset overview\n",
        "print(\"Dataset shape:\", df.shape)\n",
        "print(\"\\nColumn data types and missing values:\")\n",
        "print(df.info())\n",
        "print(\"\\nMissing values count:\")\n",
        "print(df.isnull().sum().sort_values(ascending=False))"
      ],
      "execution_count": 4
    },
    {
      "cell_type": "markdown",
      "metadata": {
        "id": "685cdd1b-44d7-40cf-ba9f-ee347f747832"
      },
      "source": [
        "<h5>2.2 Generate basic statistics for numerical columns.</h5>\n"
      ]
    },
    {
      "cell_type": "code",
      "metadata": {
        "colab": {
          "base_uri": "https://localhost:8080/"
        },
        "id": "e527b643-6963-4a64-aab2-297894062fcb",
        "outputId": "393c5d88-9a4b-41fb-a763-4b46458e4c3c"
      },
      "outputs": [
        {
          "output_type": "stream",
          "name": "stdout",
          "text": [
            "Basic statistics for numerical columns:\n",
            "         ResponseId      CompTotal       WorkExp  JobSatPoints_1  \\\n",
            "count  65437.000000   3.374000e+04  29658.000000    29324.000000   \n",
            "mean   32719.000000  2.963841e+145     11.466957       18.581094   \n",
            "std    18890.179119  5.444117e+147      9.168709       25.966221   \n",
            "min        1.000000   0.000000e+00      0.000000        0.000000   \n",
            "25%    16360.000000   6.000000e+04      4.000000        0.000000   \n",
            "50%    32719.000000   1.100000e+05      9.000000       10.000000   \n",
            "75%    49078.000000   2.500000e+05     16.000000       22.000000   \n",
            "max    65437.000000  1.000000e+150     50.000000      100.000000   \n",
            "\n",
            "       JobSatPoints_4  JobSatPoints_5  JobSatPoints_6  JobSatPoints_7  \\\n",
            "count    29393.000000    29411.000000    29450.000000     29448.00000   \n",
            "mean         7.522140       10.060857       24.343232        22.96522   \n",
            "std         18.422661       21.833836       27.089360        27.01774   \n",
            "min          0.000000        0.000000        0.000000         0.00000   \n",
            "25%          0.000000        0.000000        0.000000         0.00000   \n",
            "50%          0.000000        0.000000       20.000000        15.00000   \n",
            "75%          5.000000       10.000000       30.000000        30.00000   \n",
            "max        100.000000      100.000000      100.000000       100.00000   \n",
            "\n",
            "       JobSatPoints_8  JobSatPoints_9  JobSatPoints_10  JobSatPoints_11  \\\n",
            "count    29456.000000    29456.000000     29450.000000     29445.000000   \n",
            "mean        20.278165       16.169432        10.955713         9.953948   \n",
            "std         26.108110       24.845032        22.906263        21.775652   \n",
            "min          0.000000        0.000000         0.000000         0.000000   \n",
            "25%          0.000000        0.000000         0.000000         0.000000   \n",
            "50%         10.000000        5.000000         0.000000         0.000000   \n",
            "75%         25.000000       20.000000        10.000000        10.000000   \n",
            "max        100.000000      100.000000       100.000000       100.000000   \n",
            "\n",
            "       ConvertedCompYearly        JobSat  \n",
            "count         2.343500e+04  29126.000000  \n",
            "mean          8.615529e+04      6.935041  \n",
            "std           1.867570e+05      2.088259  \n",
            "min           1.000000e+00      0.000000  \n",
            "25%           3.271200e+04      6.000000  \n",
            "50%           6.500000e+04      7.000000  \n",
            "75%           1.079715e+05      8.000000  \n",
            "max           1.625660e+07     10.000000  \n",
            "\n",
            "Numerical columns:\n",
            "['ResponseId', 'CompTotal', 'WorkExp', 'JobSatPoints_1', 'JobSatPoints_4', 'JobSatPoints_5', 'JobSatPoints_6', 'JobSatPoints_7', 'JobSatPoints_8', 'JobSatPoints_9', 'JobSatPoints_10', 'JobSatPoints_11', 'ConvertedCompYearly', 'JobSat']\n"
          ]
        }
      ],
      "source": [
        "# Generate basic statistics for numerical columns\n",
        "print(\"Basic statistics for numerical columns:\")\n",
        "print(df.describe())\n",
        "print(\"\\nNumerical columns:\")\n",
        "numerical_cols = df.select_dtypes(include=['int64', 'float64']).columns.tolist()\n",
        "print(numerical_cols)"
      ],
      "execution_count": 5
    },
    {
      "cell_type": "markdown",
      "metadata": {
        "id": "8ca71359-8f5b-4f33-afe9-af011c2eae37"
      },
      "source": [
        "### 3. Identifying and Removing Inconsistencies\n"
      ]
    },
    {
      "cell_type": "markdown",
      "metadata": {
        "id": "224d423d-4338-423a-ae66-40981cc7809d"
      },
      "source": [
        "<h5>3.1 Identify inconsistent or irrelevant entries in specific columns (e.g., Country).</h5>\n"
      ]
    },
    {
      "cell_type": "code",
      "metadata": {
        "colab": {
          "base_uri": "https://localhost:8080/"
        },
        "id": "fd43fee0-2805-495c-93df-2f93fa2c35fa",
        "outputId": "ea5d201a-3161-4ea6-b62b-265b2c3ddf29"
      },
      "outputs": [
        {
          "output_type": "stream",
          "name": "stdout",
          "text": [
            "Unique values in Country column (first 20):\n",
            "Country\n",
            "United States of America                                11095\n",
            "Germany                                                  4947\n",
            "India                                                    4231\n",
            "United Kingdom of Great Britain and Northern Ireland     3224\n",
            "Ukraine                                                  2672\n",
            "France                                                   2110\n",
            "Canada                                                   2104\n",
            "Poland                                                   1534\n",
            "Netherlands                                              1449\n",
            "Brazil                                                   1375\n",
            "Italy                                                    1341\n",
            "Australia                                                1260\n",
            "Spain                                                    1123\n",
            "Sweden                                                   1016\n",
            "Russian Federation                                        925\n",
            "Switzerland                                               876\n",
            "Austria                                                   791\n",
            "Czech Republic                                            714\n",
            "Israel                                                    604\n",
            "Turkey                                                    546\n",
            "Name: count, dtype: int64\n",
            "\n",
            "Total unique countries: 185\n",
            "\n",
            "Potential inconsistencies (countries with very low counts):\n",
            "Country\n",
            "Democratic People's Republic of Korea    2\n",
            "Mali                                     2\n",
            "Guinea-Bissau                            2\n",
            "Belize                                   2\n",
            "Dominica                                 1\n",
            "Papua New Guinea                         1\n",
            "Equatorial Guinea                        1\n",
            "Central African Republic                 1\n",
            "Samoa                                    1\n",
            "Niger                                    1\n",
            "Guinea                                   1\n",
            "Saint Kitts and Nevis                    1\n",
            "Lesotho                                  1\n",
            "Haiti                                    1\n",
            "Micronesia, Federated States of...       1\n",
            "Nauru                                    1\n",
            "Chad                                     1\n",
            "Djibouti                                 1\n",
            "Solomon Islands                          1\n",
            "Name: count, dtype: int64\n"
          ]
        }
      ],
      "source": [
        "# Identify inconsistent entries in Country column\n",
        "print(\"Unique values in Country column (first 20):\")\n",
        "print(df['Country'].value_counts().head(20))\n",
        "print(\"\\nTotal unique countries:\", df['Country'].nunique())\n",
        "\n",
        "# Check for potential inconsistencies\n",
        "print(\"\\nPotential inconsistencies (countries with very low counts):\")\n",
        "country_counts = df['Country'].value_counts()\n",
        "low_count_countries = country_counts[country_counts <= 2]\n",
        "print(low_count_countries)"
      ],
      "execution_count": 6
    },
    {
      "cell_type": "markdown",
      "metadata": {
        "id": "a32ff9e2-d19e-4175-9997-907c09a94df0"
      },
      "source": [
        "<h5>3.2 Standardize entries in columns like Country or EdLevel by mapping inconsistent values to a consistent format.</h5>\n"
      ]
    },
    {
      "cell_type": "code",
      "metadata": {
        "colab": {
          "base_uri": "https://localhost:8080/"
        },
        "id": "196a5909-90b5-4a2b-80cc-ca4427fb97f6",
        "outputId": "4818f1c4-624a-471b-904d-c683c284aa2c"
      },
      "outputs": [
        {
          "output_type": "stream",
          "name": "stdout",
          "text": [
            "After standardization - Top 10 countries:\n",
            "Country\n",
            "United States                                           11095\n",
            "Germany                                                  4947\n",
            "India                                                    4231\n",
            "United Kingdom of Great Britain and Northern Ireland     3224\n",
            "Ukraine                                                  2672\n",
            "France                                                   2110\n",
            "Canada                                                   2104\n",
            "Poland                                                   1534\n",
            "Netherlands                                              1449\n",
            "Brazil                                                   1375\n",
            "Name: count, dtype: int64\n",
            "\n",
            "Education levels before standardization:\n",
            "EdLevel\n",
            "Bachelor’s degree (B.A., B.S., B.Eng., etc.)                                          24942\n",
            "Master’s degree (M.A., M.S., M.Eng., MBA, etc.)                                       15557\n",
            "Some college/university study without earning a degree                                 7651\n",
            "Secondary school (e.g. American high school, German Realschule or Gymnasium, etc.)     5793\n",
            "Professional degree (JD, MD, Ph.D, Ed.D, etc.)                                         2970\n",
            "Associate degree (A.A., A.S., etc.)                                                    1793\n",
            "Primary/elementary school                                                              1146\n",
            "Something else                                                                          932\n",
            "Name: count, dtype: int64\n",
            "\n",
            "Education levels after standardization:\n",
            "EdLevel\n",
            "Bachelor’S Degree (B.A., B.S., B.Eng., Etc.)                                          24942\n",
            "Master’S Degree (M.A., M.S., M.Eng., Mba, Etc.)                                       15557\n",
            "Some College/University Study Without Earning A Degree                                 7651\n",
            "Secondary School (E.G. American High School, German Realschule Or Gymnasium, Etc.)     5793\n",
            "Professional Degree (Jd, Md, Ph.D, Ed.D, Etc.)                                         2970\n",
            "Associate Degree (A.A., A.S., Etc.)                                                    1793\n",
            "Primary/Elementary School                                                              1146\n",
            "Something Else                                                                          932\n",
            "Name: count, dtype: int64\n"
          ]
        }
      ],
      "source": [
        "# Standardize Country entries\n",
        "# Map common variations to standard names\n",
        "country_mapping = {\n",
        "    'United States of America': 'United States',\n",
        "    'USA': 'United States',\n",
        "    'US': 'United States',\n",
        "    'UK': 'United Kingdom',\n",
        "    'Great Britain': 'United Kingdom',\n",
        "    'England': 'United Kingdom'\n",
        "}\n",
        "\n",
        "# Apply mapping\n",
        "df['Country'] = df['Country'].replace(country_mapping)\n",
        "\n",
        "print(\"After standardization - Top 10 countries:\")\n",
        "print(df['Country'].value_counts().head(10))\n",
        "\n",
        "# Standardize EdLevel if it exists\n",
        "if 'EdLevel' in df.columns:\n",
        "    print(\"\\nEducation levels before standardization:\")\n",
        "    print(df['EdLevel'].value_counts())\n",
        "\n",
        "    # Clean up education level entries\n",
        "    df['EdLevel'] = df['EdLevel'].str.strip()\n",
        "    df['EdLevel'] = df['EdLevel'].str.title()\n",
        "\n",
        "    print(\"\\nEducation levels after standardization:\")\n",
        "    print(df['EdLevel'].value_counts())"
      ],
      "execution_count": 7
    },
    {
      "cell_type": "markdown",
      "metadata": {
        "id": "f3f7396f-8152-454d-b0d6-ee70eaba540d"
      },
      "source": [
        "### 4. Encoding Categorical Variables\n"
      ]
    },
    {
      "cell_type": "markdown",
      "metadata": {
        "id": "0e675dd9-b427-4c7a-92c2-b711a8ebb6a0"
      },
      "source": [
        "<h5>4.1 Encode the Employment column using one-hot encoding.</h5>\n"
      ]
    },
    {
      "cell_type": "code",
      "metadata": {
        "colab": {
          "base_uri": "https://localhost:8080/"
        },
        "id": "13bded1e-c766-46f0-9015-88228947549c",
        "outputId": "41f0b1bf-be52-4c27-fbdb-d5e20ecf2624"
      },
      "outputs": [
        {
          "output_type": "stream",
          "name": "stdout",
          "text": [
            "Original Employment values:\n",
            "Employment\n",
            "Employed, full-time                                                                                                                                   39041\n",
            "Independent contractor, freelancer, or self-employed                                                                                                   4846\n",
            "Student, full-time                                                                                                                                     4709\n",
            "Employed, full-time;Independent contractor, freelancer, or self-employed                                                                               3557\n",
            "Not employed, but looking for work                                                                                                                     2341\n",
            "                                                                                                                                                      ...  \n",
            "Not employed, but looking for work;Independent contractor, freelancer, or self-employed;Not employed, and not looking for work;Employed, part-time        1\n",
            "Student, full-time;Retired                                                                                                                                1\n",
            "Employed, full-time;Not employed, but looking for work;Student, part-time                                                                                 1\n",
            "Not employed, and not looking for work;Student, part-time;Employed, part-time                                                                             1\n",
            "Not employed, but looking for work;Independent contractor, freelancer, or self-employed;Student, part-time;Retired                                        1\n",
            "Name: count, Length: 110, dtype: int64\n",
            "\n",
            "One-hot encoded Employment columns:\n",
            "['Employment_Employed, full-time', 'Employment_Employed, full-time;Employed, part-time', 'Employment_Employed, full-time;Independent contractor, freelancer, or self-employed', 'Employment_Employed, full-time;Independent contractor, freelancer, or self-employed;Employed, part-time', 'Employment_Employed, full-time;Independent contractor, freelancer, or self-employed;Employed, part-time;Retired', 'Employment_Employed, full-time;Independent contractor, freelancer, or self-employed;Not employed, and not looking for work', 'Employment_Employed, full-time;Independent contractor, freelancer, or self-employed;Not employed, and not looking for work;Employed, part-time', 'Employment_Employed, full-time;Independent contractor, freelancer, or self-employed;Not employed, and not looking for work;Student, part-time', 'Employment_Employed, full-time;Independent contractor, freelancer, or self-employed;Retired', 'Employment_Employed, full-time;Independent contractor, freelancer, or self-employed;Student, part-time', 'Employment_Employed, full-time;Independent contractor, freelancer, or self-employed;Student, part-time;Employed, part-time', 'Employment_Employed, full-time;Independent contractor, freelancer, or self-employed;Student, part-time;Retired', 'Employment_Employed, full-time;Not employed, and not looking for work', 'Employment_Employed, full-time;Not employed, but looking for work', 'Employment_Employed, full-time;Not employed, but looking for work;Employed, part-time', 'Employment_Employed, full-time;Not employed, but looking for work;Independent contractor, freelancer, or self-employed', 'Employment_Employed, full-time;Not employed, but looking for work;Independent contractor, freelancer, or self-employed;Employed, part-time', 'Employment_Employed, full-time;Not employed, but looking for work;Independent contractor, freelancer, or self-employed;Not employed, and not looking for work;Employed, part-time', 'Employment_Employed, full-time;Not employed, but looking for work;Not employed, and not looking for work;Employed, part-time', 'Employment_Employed, full-time;Not employed, but looking for work;Student, part-time', 'Employment_Employed, full-time;Retired', 'Employment_Employed, full-time;Student, full-time', 'Employment_Employed, full-time;Student, full-time;Employed, part-time', 'Employment_Employed, full-time;Student, full-time;Independent contractor, freelancer, or self-employed', 'Employment_Employed, full-time;Student, full-time;Independent contractor, freelancer, or self-employed;Employed, part-time', 'Employment_Employed, full-time;Student, full-time;Independent contractor, freelancer, or self-employed;Student, part-time;Employed, part-time', 'Employment_Employed, full-time;Student, full-time;Independent contractor, freelancer, or self-employed;Student, part-time;Employed, part-time;Retired', 'Employment_Employed, full-time;Student, full-time;Independent contractor, freelancer, or self-employed;Student, part-time;Retired', 'Employment_Employed, full-time;Student, full-time;Not employed, but looking for work', 'Employment_Employed, full-time;Student, full-time;Not employed, but looking for work;Independent contractor, freelancer, or self-employed', 'Employment_Employed, full-time;Student, full-time;Not employed, but looking for work;Independent contractor, freelancer, or self-employed;Employed, part-time', 'Employment_Employed, full-time;Student, full-time;Not employed, but looking for work;Independent contractor, freelancer, or self-employed;Not employed, and not looking for work;Student, part-time;Employed, part-time', 'Employment_Employed, full-time;Student, full-time;Not employed, but looking for work;Independent contractor, freelancer, or self-employed;Not employed, and not looking for work;Student, part-time;Employed, part-time;Retired', 'Employment_Employed, full-time;Student, full-time;Not employed, but looking for work;Independent contractor, freelancer, or self-employed;Student, part-time;Employed, part-time', 'Employment_Employed, full-time;Student, full-time;Not employed, but looking for work;Independent contractor, freelancer, or self-employed;Student, part-time;Employed, part-time;Retired', 'Employment_Employed, full-time;Student, full-time;Not employed, but looking for work;Student, part-time', 'Employment_Employed, full-time;Student, full-time;Not employed, but looking for work;Student, part-time;Employed, part-time', 'Employment_Employed, full-time;Student, full-time;Student, part-time', 'Employment_Employed, full-time;Student, full-time;Student, part-time;Employed, part-time', 'Employment_Employed, full-time;Student, part-time', 'Employment_Employed, full-time;Student, part-time;Employed, part-time', 'Employment_Employed, part-time', 'Employment_Employed, part-time;Retired', 'Employment_I prefer not to say', 'Employment_Independent contractor, freelancer, or self-employed', 'Employment_Independent contractor, freelancer, or self-employed;Employed, part-time', 'Employment_Independent contractor, freelancer, or self-employed;Employed, part-time;Retired', 'Employment_Independent contractor, freelancer, or self-employed;Not employed, and not looking for work', 'Employment_Independent contractor, freelancer, or self-employed;Not employed, and not looking for work;Employed, part-time', 'Employment_Independent contractor, freelancer, or self-employed;Not employed, and not looking for work;Retired', 'Employment_Independent contractor, freelancer, or self-employed;Not employed, and not looking for work;Student, part-time', 'Employment_Independent contractor, freelancer, or self-employed;Not employed, and not looking for work;Student, part-time;Retired', 'Employment_Independent contractor, freelancer, or self-employed;Retired', 'Employment_Independent contractor, freelancer, or self-employed;Student, part-time', 'Employment_Independent contractor, freelancer, or self-employed;Student, part-time;Employed, part-time', 'Employment_Independent contractor, freelancer, or self-employed;Student, part-time;Retired', 'Employment_Not employed, and not looking for work', 'Employment_Not employed, and not looking for work;Employed, part-time', 'Employment_Not employed, and not looking for work;Retired', 'Employment_Not employed, and not looking for work;Student, part-time', 'Employment_Not employed, and not looking for work;Student, part-time;Employed, part-time', 'Employment_Not employed, but looking for work', 'Employment_Not employed, but looking for work;Employed, part-time', 'Employment_Not employed, but looking for work;Independent contractor, freelancer, or self-employed', 'Employment_Not employed, but looking for work;Independent contractor, freelancer, or self-employed;Employed, part-time', 'Employment_Not employed, but looking for work;Independent contractor, freelancer, or self-employed;Not employed, and not looking for work', 'Employment_Not employed, but looking for work;Independent contractor, freelancer, or self-employed;Not employed, and not looking for work;Employed, part-time', 'Employment_Not employed, but looking for work;Independent contractor, freelancer, or self-employed;Not employed, and not looking for work;Retired', 'Employment_Not employed, but looking for work;Independent contractor, freelancer, or self-employed;Retired', 'Employment_Not employed, but looking for work;Independent contractor, freelancer, or self-employed;Student, part-time', 'Employment_Not employed, but looking for work;Independent contractor, freelancer, or self-employed;Student, part-time;Employed, part-time', 'Employment_Not employed, but looking for work;Independent contractor, freelancer, or self-employed;Student, part-time;Retired', 'Employment_Not employed, but looking for work;Not employed, and not looking for work', 'Employment_Not employed, but looking for work;Not employed, and not looking for work;Student, part-time', 'Employment_Not employed, but looking for work;Not employed, and not looking for work;Student, part-time;Employed, part-time', 'Employment_Not employed, but looking for work;Retired', 'Employment_Not employed, but looking for work;Student, part-time', 'Employment_Not employed, but looking for work;Student, part-time;Employed, part-time', 'Employment_Not employed, but looking for work;Student, part-time;Retired', 'Employment_Retired', 'Employment_Student, full-time', 'Employment_Student, full-time;Employed, part-time', 'Employment_Student, full-time;Independent contractor, freelancer, or self-employed', 'Employment_Student, full-time;Independent contractor, freelancer, or self-employed;Employed, part-time', 'Employment_Student, full-time;Independent contractor, freelancer, or self-employed;Employed, part-time;Retired', 'Employment_Student, full-time;Independent contractor, freelancer, or self-employed;Not employed, and not looking for work', 'Employment_Student, full-time;Independent contractor, freelancer, or self-employed;Student, part-time', 'Employment_Student, full-time;Independent contractor, freelancer, or self-employed;Student, part-time;Employed, part-time', 'Employment_Student, full-time;Not employed, and not looking for work', 'Employment_Student, full-time;Not employed, and not looking for work;Employed, part-time', 'Employment_Student, full-time;Not employed, and not looking for work;Student, part-time', 'Employment_Student, full-time;Not employed, but looking for work', 'Employment_Student, full-time;Not employed, but looking for work;Employed, part-time', 'Employment_Student, full-time;Not employed, but looking for work;Independent contractor, freelancer, or self-employed', 'Employment_Student, full-time;Not employed, but looking for work;Independent contractor, freelancer, or self-employed;Employed, part-time', 'Employment_Student, full-time;Not employed, but looking for work;Independent contractor, freelancer, or self-employed;Not employed, and not looking for work', 'Employment_Student, full-time;Not employed, but looking for work;Independent contractor, freelancer, or self-employed;Not employed, and not looking for work;Student, part-time', 'Employment_Student, full-time;Not employed, but looking for work;Independent contractor, freelancer, or self-employed;Student, part-time', 'Employment_Student, full-time;Not employed, but looking for work;Independent contractor, freelancer, or self-employed;Student, part-time;Employed, part-time;Retired', 'Employment_Student, full-time;Not employed, but looking for work;Not employed, and not looking for work', 'Employment_Student, full-time;Not employed, but looking for work;Not employed, and not looking for work;Student, part-time', 'Employment_Student, full-time;Not employed, but looking for work;Retired', 'Employment_Student, full-time;Not employed, but looking for work;Student, part-time', 'Employment_Student, full-time;Retired', 'Employment_Student, full-time;Student, part-time', 'Employment_Student, full-time;Student, part-time;Employed, part-time', 'Employment_Student, full-time;Student, part-time;Retired', 'Employment_Student, part-time', 'Employment_Student, part-time;Employed, part-time', 'Employment_Student, part-time;Retired']\n",
            "\n",
            "First few rows of encoded Employment:\n",
            "   Employment_Employed, full-time  \\\n",
            "0                            True   \n",
            "1                            True   \n",
            "2                            True   \n",
            "3                           False   \n",
            "4                           False   \n",
            "\n",
            "   Employment_Employed, full-time;Employed, part-time  \\\n",
            "0                                              False    \n",
            "1                                              False    \n",
            "2                                              False    \n",
            "3                                              False    \n",
            "4                                              False    \n",
            "\n",
            "   Employment_Employed, full-time;Independent contractor, freelancer, or self-employed  \\\n",
            "0                                              False                                     \n",
            "1                                              False                                     \n",
            "2                                              False                                     \n",
            "3                                              False                                     \n",
            "4                                              False                                     \n",
            "\n",
            "   Employment_Employed, full-time;Independent contractor, freelancer, or self-employed;Employed, part-time  \\\n",
            "0                                              False                                                         \n",
            "1                                              False                                                         \n",
            "2                                              False                                                         \n",
            "3                                              False                                                         \n",
            "4                                              False                                                         \n",
            "\n",
            "   Employment_Employed, full-time;Independent contractor, freelancer, or self-employed;Employed, part-time;Retired  \\\n",
            "0                                              False                                                                 \n",
            "1                                              False                                                                 \n",
            "2                                              False                                                                 \n",
            "3                                              False                                                                 \n",
            "4                                              False                                                                 \n",
            "\n",
            "   Employment_Employed, full-time;Independent contractor, freelancer, or self-employed;Not employed, and not looking for work  \\\n",
            "0                                              False                                                                            \n",
            "1                                              False                                                                            \n",
            "2                                              False                                                                            \n",
            "3                                              False                                                                            \n",
            "4                                              False                                                                            \n",
            "\n",
            "   Employment_Employed, full-time;Independent contractor, freelancer, or self-employed;Not employed, and not looking for work;Employed, part-time  \\\n",
            "0                                              False                                                                                                \n",
            "1                                              False                                                                                                \n",
            "2                                              False                                                                                                \n",
            "3                                              False                                                                                                \n",
            "4                                              False                                                                                                \n",
            "\n",
            "   Employment_Employed, full-time;Independent contractor, freelancer, or self-employed;Not employed, and not looking for work;Student, part-time  \\\n",
            "0                                              False                                                                                               \n",
            "1                                              False                                                                                               \n",
            "2                                              False                                                                                               \n",
            "3                                              False                                                                                               \n",
            "4                                              False                                                                                               \n",
            "\n",
            "   Employment_Employed, full-time;Independent contractor, freelancer, or self-employed;Retired  \\\n",
            "0                                              False                                             \n",
            "1                                              False                                             \n",
            "2                                              False                                             \n",
            "3                                              False                                             \n",
            "4                                              False                                             \n",
            "\n",
            "   Employment_Employed, full-time;Independent contractor, freelancer, or self-employed;Student, part-time  \\\n",
            "0                                              False                                                        \n",
            "1                                              False                                                        \n",
            "2                                              False                                                        \n",
            "3                                              False                                                        \n",
            "4                                              False                                                        \n",
            "\n",
            "   ...  \\\n",
            "0  ...   \n",
            "1  ...   \n",
            "2  ...   \n",
            "3  ...   \n",
            "4  ...   \n",
            "\n",
            "   Employment_Student, full-time;Not employed, but looking for work;Not employed, and not looking for work;Student, part-time  \\\n",
            "0                                              False                                                                            \n",
            "1                                              False                                                                            \n",
            "2                                              False                                                                            \n",
            "3                                              False                                                                            \n",
            "4                                              False                                                                            \n",
            "\n",
            "   Employment_Student, full-time;Not employed, but looking for work;Retired  \\\n",
            "0                                              False                          \n",
            "1                                              False                          \n",
            "2                                              False                          \n",
            "3                                              False                          \n",
            "4                                              False                          \n",
            "\n",
            "   Employment_Student, full-time;Not employed, but looking for work;Student, part-time  \\\n",
            "0                                              False                                     \n",
            "1                                              False                                     \n",
            "2                                              False                                     \n",
            "3                                              False                                     \n",
            "4                                              False                                     \n",
            "\n",
            "   Employment_Student, full-time;Retired  \\\n",
            "0                                  False   \n",
            "1                                  False   \n",
            "2                                  False   \n",
            "3                                  False   \n",
            "4                                  False   \n",
            "\n",
            "   Employment_Student, full-time;Student, part-time  \\\n",
            "0                                             False   \n",
            "1                                             False   \n",
            "2                                             False   \n",
            "3                                             False   \n",
            "4                                             False   \n",
            "\n",
            "   Employment_Student, full-time;Student, part-time;Employed, part-time  \\\n",
            "0                                              False                      \n",
            "1                                              False                      \n",
            "2                                              False                      \n",
            "3                                              False                      \n",
            "4                                              False                      \n",
            "\n",
            "   Employment_Student, full-time;Student, part-time;Retired  \\\n",
            "0                                              False          \n",
            "1                                              False          \n",
            "2                                              False          \n",
            "3                                              False          \n",
            "4                                              False          \n",
            "\n",
            "   Employment_Student, part-time  \\\n",
            "0                          False   \n",
            "1                          False   \n",
            "2                          False   \n",
            "3                          False   \n",
            "4                          False   \n",
            "\n",
            "   Employment_Student, part-time;Employed, part-time  \\\n",
            "0                                              False   \n",
            "1                                              False   \n",
            "2                                              False   \n",
            "3                                              False   \n",
            "4                                              False   \n",
            "\n",
            "   Employment_Student, part-time;Retired  \n",
            "0                                  False  \n",
            "1                                  False  \n",
            "2                                  False  \n",
            "3                                  False  \n",
            "4                                  False  \n",
            "\n",
            "[5 rows x 110 columns]\n"
          ]
        }
      ],
      "source": [
        "# One-hot encode the Employment column\n",
        "if 'Employment' in df.columns:\n",
        "    print(\"Original Employment values:\")\n",
        "    print(df['Employment'].value_counts())\n",
        "\n",
        "    # Perform one-hot encoding\n",
        "    employment_encoded = pd.get_dummies(df['Employment'], prefix='Employment')\n",
        "\n",
        "    # Add encoded columns to dataframe\n",
        "    df = pd.concat([df, employment_encoded], axis=1)\n",
        "\n",
        "    print(\"\\nOne-hot encoded Employment columns:\")\n",
        "    print(employment_encoded.columns.tolist())\n",
        "    print(\"\\nFirst few rows of encoded Employment:\")\n",
        "    print(employment_encoded.head())\n",
        "else:\n",
        "    print(\"Employment column not found. Available columns:\")\n",
        "    print(df.columns.tolist())"
      ],
      "execution_count": 8
    },
    {
      "cell_type": "markdown",
      "metadata": {
        "id": "fe0d75d2-209f-4c56-b14e-b2f8037e76d7"
      },
      "source": [
        "### 5. Handling Missing Values\n"
      ]
    },
    {
      "cell_type": "markdown",
      "metadata": {
        "id": "167edac3-f763-4689-89f9-c2b499fe6ceb"
      },
      "source": [
        "<h5>5.1 Identify columns with the highest number of missing values.</h5>\n"
      ]
    },
    {
      "cell_type": "code",
      "metadata": {
        "colab": {
          "base_uri": "https://localhost:8080/"
        },
        "id": "3b9b722d-ab02-4316-a64c-96fd10d57f09",
        "outputId": "f7fbd13f-a250-4aa7-d16f-eea6a0051027"
      },
      "outputs": [
        {
          "output_type": "stream",
          "name": "stdout",
          "text": [
            "Top 15 columns with most missing values:\n",
            "                               Missing_Count  Missing_Percentage\n",
            "AINextMuch less integrated             64289               98.25\n",
            "AINextLess integrated                  63082               96.40\n",
            "AINextNo change                        52939               80.90\n",
            "AINextMuch more integrated             51999               79.46\n",
            "EmbeddedAdmired                        48704               74.43\n",
            "EmbeddedWantToWorkWith                 47837               73.10\n",
            "EmbeddedHaveWorkedWith                 43223               66.05\n",
            "ConvertedCompYearly                    42002               64.19\n",
            "AIToolNot interested in Using          41023               62.69\n",
            "AINextMore integrated                  41009               62.67\n",
            "Knowledge_9                            37802               57.77\n",
            "Frequency_3                            37727               57.65\n",
            "Knowledge_8                            37679               57.58\n",
            "ProfessionalTech                       37673               57.57\n",
            "Knowledge_7                            37659               57.55\n"
          ]
        }
      ],
      "source": [
        "# Identify columns with highest missing values\n",
        "missing_values = df.isnull().sum().sort_values(ascending=False)\n",
        "missing_percentage = (missing_values / len(df) * 100).round(2)\n",
        "\n",
        "missing_summary = pd.DataFrame({\n",
        "    'Missing_Count': missing_values,\n",
        "    'Missing_Percentage': missing_percentage\n",
        "})\n",
        "\n",
        "print(\"Top 15 columns with most missing values:\")\n",
        "print(missing_summary[missing_summary['Missing_Count'] > 0].head(15))"
      ],
      "execution_count": 9
    },
    {
      "cell_type": "markdown",
      "metadata": {
        "id": "3494af17-d786-412c-8fa5-93007c842385"
      },
      "source": [
        "<h5>5.2 Impute missing values in numerical columns (e.g., `ConvertedCompYearly`) with the mean or median.</h5>\n"
      ]
    },
    {
      "cell_type": "code",
      "metadata": {
        "colab": {
          "base_uri": "https://localhost:8080/"
        },
        "id": "5b4dc8e5-d3d2-449d-ae4e-022bd8ee36e3",
        "outputId": "162238ec-de8c-4df2-f81c-a3b91209c893"
      },
      "outputs": [
        {
          "output_type": "stream",
          "name": "stdout",
          "text": [
            "Missing values in ConvertedCompYearly before imputation: 42002\n",
            "Median salary: 65000.0\n",
            "Missing values in ConvertedCompYearly after imputation: 0\n",
            "\n",
            "Imputing missing values in numerical columns: ['ResponseId', 'CompTotal', 'WorkExp', 'JobSatPoints_1', 'JobSatPoints_4', 'JobSatPoints_5', 'JobSatPoints_6', 'JobSatPoints_7', 'JobSatPoints_8', 'JobSatPoints_9', 'JobSatPoints_10', 'JobSatPoints_11', 'ConvertedCompYearly', 'JobSat']\n",
            "Imputed CompTotal with median: 110000.0\n",
            "Imputed WorkExp with median: 9.0\n",
            "Imputed JobSatPoints_1 with median: 10.0\n",
            "Imputed JobSatPoints_4 with median: 0.0\n",
            "Imputed JobSatPoints_5 with median: 0.0\n",
            "Imputed JobSatPoints_6 with median: 20.0\n",
            "Imputed JobSatPoints_7 with median: 15.0\n",
            "Imputed JobSatPoints_8 with median: 10.0\n",
            "Imputed JobSatPoints_9 with median: 5.0\n",
            "Imputed JobSatPoints_10 with median: 0.0\n",
            "Imputed JobSatPoints_11 with median: 0.0\n",
            "Imputed JobSat with median: 7.0\n"
          ]
        },
        {
          "output_type": "stream",
          "name": "stderr",
          "text": [
            "/tmp/ipython-input-1641794773.py:10: FutureWarning: A value is trying to be set on a copy of a DataFrame or Series through chained assignment using an inplace method.\n",
            "The behavior will change in pandas 3.0. This inplace method will never work because the intermediate object on which we are setting values always behaves as a copy.\n",
            "\n",
            "For example, when doing 'df[col].method(value, inplace=True)', try using 'df.method({col: value}, inplace=True)' or df[col] = df[col].method(value) instead, to perform the operation inplace on the original object.\n",
            "\n",
            "\n",
            "  df['ConvertedCompYearly'].fillna(median_salary, inplace=True)\n",
            "/tmp/ipython-input-1641794773.py:23: FutureWarning: A value is trying to be set on a copy of a DataFrame or Series through chained assignment using an inplace method.\n",
            "The behavior will change in pandas 3.0. This inplace method will never work because the intermediate object on which we are setting values always behaves as a copy.\n",
            "\n",
            "For example, when doing 'df[col].method(value, inplace=True)', try using 'df.method({col: value}, inplace=True)' or df[col] = df[col].method(value) instead, to perform the operation inplace on the original object.\n",
            "\n",
            "\n",
            "  df[col].fillna(median_val, inplace=True)\n"
          ]
        }
      ],
      "source": [
        "# Impute missing values in ConvertedCompYearly with median\n",
        "if 'ConvertedCompYearly' in df.columns:\n",
        "    print(f\"Missing values in ConvertedCompYearly before imputation: {df['ConvertedCompYearly'].isnull().sum()}\")\n",
        "\n",
        "    # Calculate median\n",
        "    median_salary = df['ConvertedCompYearly'].median()\n",
        "    print(f\"Median salary: {median_salary}\")\n",
        "\n",
        "    # Impute missing values\n",
        "    df['ConvertedCompYearly'].fillna(median_salary, inplace=True)\n",
        "\n",
        "    print(f\"Missing values in ConvertedCompYearly after imputation: {df['ConvertedCompYearly'].isnull().sum()}\")\n",
        "else:\n",
        "    print(\"ConvertedCompYearly column not found.\")\n",
        "\n",
        "# Impute other numerical columns\n",
        "numerical_cols = df.select_dtypes(include=['int64', 'float64']).columns\n",
        "print(f\"\\nImputing missing values in numerical columns: {list(numerical_cols)}\")\n",
        "\n",
        "for col in numerical_cols:\n",
        "    if df[col].isnull().sum() > 0:\n",
        "        median_val = df[col].median()\n",
        "        df[col].fillna(median_val, inplace=True)\n",
        "        print(f\"Imputed {col} with median: {median_val}\")"
      ],
      "execution_count": 10
    },
    {
      "cell_type": "markdown",
      "metadata": {
        "id": "b7aa6dd5-e442-4042-8e0b-7b047c5271c7"
      },
      "source": [
        "<h5>5.3 Impute missing values in categorical columns (e.g., `RemoteWork`) with the most frequent value.</h5>\n"
      ]
    },
    {
      "cell_type": "code",
      "metadata": {
        "colab": {
          "base_uri": "https://localhost:8080/"
        },
        "id": "3e8de2f3-b9f2-4b54-8545-cfab7573a4ce",
        "outputId": "7f85a426-2747-4269-884b-2e28fd36fa9e"
      },
      "outputs": [
        {
          "output_type": "stream",
          "name": "stdout",
          "text": [
            "Missing values in RemoteWork before imputation: 10631\n",
            "Most frequent RemoteWork value: Hybrid (some remote, some in-person)\n",
            "Missing values in RemoteWork after imputation: 0\n"
          ]
        },
        {
          "output_type": "stream",
          "name": "stderr",
          "text": [
            "/tmp/ipython-input-4055265448.py:10: FutureWarning: A value is trying to be set on a copy of a DataFrame or Series through chained assignment using an inplace method.\n",
            "The behavior will change in pandas 3.0. This inplace method will never work because the intermediate object on which we are setting values always behaves as a copy.\n",
            "\n",
            "For example, when doing 'df[col].method(value, inplace=True)', try using 'df.method({col: value}, inplace=True)' or df[col] = df[col].method(value) instead, to perform the operation inplace on the original object.\n",
            "\n",
            "\n",
            "  df['RemoteWork'].fillna(mode_remote, inplace=True)\n"
          ]
        },
        {
          "output_type": "stream",
          "name": "stdout",
          "text": [
            "\n",
            "Imputing missing values in categorical columns:\n",
            "Imputed CodingActivities with mode: Hobby\n"
          ]
        },
        {
          "output_type": "stream",
          "name": "stderr",
          "text": [
            "/tmp/ipython-input-4055265448.py:24: FutureWarning: A value is trying to be set on a copy of a DataFrame or Series through chained assignment using an inplace method.\n",
            "The behavior will change in pandas 3.0. This inplace method will never work because the intermediate object on which we are setting values always behaves as a copy.\n",
            "\n",
            "For example, when doing 'df[col].method(value, inplace=True)', try using 'df.method({col: value}, inplace=True)' or df[col] = df[col].method(value) instead, to perform the operation inplace on the original object.\n",
            "\n",
            "\n",
            "  df[col].fillna(mode_val[0], inplace=True)\n"
          ]
        },
        {
          "output_type": "stream",
          "name": "stdout",
          "text": [
            "Imputed EdLevel with mode: Bachelor’S Degree (B.A., B.S., B.Eng., Etc.)\n",
            "Imputed LearnCode with mode: Other online resources (e.g., videos, blogs, forum, online community)\n",
            "Imputed LearnCodeOnline with mode: Technical documentation;Blogs;Written Tutorials;Stack Overflow\n",
            "Imputed TechDoc with mode: API document(s) and/or SDK document(s);User guides or README files found in the source repository;Traditional public search engine\n",
            "Imputed YearsCode with mode: 10\n",
            "Imputed YearsCodePro with mode: 2\n",
            "Imputed DevType with mode: Developer, full-stack\n",
            "Imputed OrgSize with mode: 20 to 99 employees\n",
            "Imputed PurchaseInfluence with mode: I have some influence\n",
            "Imputed BuyNewTool with mode: Start a free trial;Ask developers I know/work with;Visit developer communities like Stack Overflow\n",
            "Imputed BuildvsBuy with mode: Is ready-to-go but also customizable for growth and targeted use cases\n",
            "Imputed TechEndorse with mode: APIs;Customization;Reputation for quality and excellence\n",
            "Imputed Country with mode: United States\n",
            "Imputed Currency with mode: EUR European Euro\n",
            "Imputed LanguageHaveWorkedWith with mode: HTML/CSS;JavaScript;TypeScript\n",
            "Imputed LanguageWantToWorkWith with mode: Python\n",
            "Imputed LanguageAdmired with mode: Python\n",
            "Imputed DatabaseHaveWorkedWith with mode: PostgreSQL\n",
            "Imputed DatabaseWantToWorkWith with mode: PostgreSQL\n",
            "Imputed DatabaseAdmired with mode: PostgreSQL\n",
            "Imputed PlatformHaveWorkedWith with mode: Amazon Web Services (AWS)\n",
            "Imputed PlatformWantToWorkWith with mode: Amazon Web Services (AWS)\n",
            "Imputed PlatformAdmired with mode: Amazon Web Services (AWS)\n",
            "Imputed WebframeHaveWorkedWith with mode: React\n",
            "Imputed WebframeWantToWorkWith with mode: React\n",
            "Imputed WebframeAdmired with mode: React\n",
            "Imputed EmbeddedHaveWorkedWith with mode: Rasberry Pi\n",
            "Imputed EmbeddedWantToWorkWith with mode: Rasberry Pi\n",
            "Imputed EmbeddedAdmired with mode: Rasberry Pi\n",
            "Imputed MiscTechHaveWorkedWith with mode: .NET (5+) \n",
            "Imputed MiscTechWantToWorkWith with mode: .NET (5+) \n",
            "Imputed MiscTechAdmired with mode: .NET (5+) \n",
            "Imputed ToolsTechHaveWorkedWith with mode: Docker\n",
            "Imputed ToolsTechWantToWorkWith with mode: Docker\n",
            "Imputed ToolsTechAdmired with mode: Docker\n",
            "Imputed NEWCollabToolsHaveWorkedWith with mode: Visual Studio Code\n",
            "Imputed NEWCollabToolsWantToWorkWith with mode: Visual Studio Code\n",
            "Imputed NEWCollabToolsAdmired with mode: Visual Studio Code\n",
            "Imputed OpSysPersonal use with mode: Windows\n",
            "Imputed OpSysProfessional use with mode: Windows\n",
            "Imputed OfficeStackAsyncHaveWorkedWith with mode: Jira\n",
            "Imputed OfficeStackAsyncWantToWorkWith with mode: Jira\n",
            "Imputed OfficeStackAsyncAdmired with mode: Jira\n",
            "Imputed OfficeStackSyncHaveWorkedWith with mode: Microsoft Teams\n",
            "Imputed OfficeStackSyncWantToWorkWith with mode: Microsoft Teams\n",
            "Imputed OfficeStackSyncAdmired with mode: Microsoft Teams\n",
            "Imputed AISearchDevHaveWorkedWith with mode: ChatGPT\n",
            "Imputed AISearchDevWantToWorkWith with mode: ChatGPT\n",
            "Imputed AISearchDevAdmired with mode: ChatGPT\n",
            "Imputed NEWSOSites with mode: Stack Overflow;Stack Exchange\n",
            "Imputed SOVisitFreq with mode: A few times per week\n",
            "Imputed SOAccount with mode: Yes\n",
            "Imputed SOPartFreq with mode: Less than once per month or monthly\n",
            "Imputed SOHow with mode: Quickly finding code solutions;Finding reliable guidance from community-vetted answers\n",
            "Imputed SOComm with mode: No, not really\n",
            "Imputed AISelect with mode: Yes\n",
            "Imputed AISent with mode: Favorable\n",
            "Imputed AIBen with mode: Increase productivity;Greater efficiency;Speed up learning\n",
            "Imputed AIAcc with mode: Somewhat trust\n",
            "Imputed AIComplex with mode: Good, but not great at handling complex tasks\n",
            "Imputed AIToolCurrently Using with mode: Writing code;Debugging and getting help;Search for answers\n",
            "Imputed AIToolInterested in Using with mode: Learning about a codebase\n",
            "Imputed AIToolNot interested in Using with mode: Project planning\n",
            "Imputed AINextMuch more integrated with mode: Search for answers\n",
            "Imputed AINextNo change with mode: Writing code\n",
            "Imputed AINextMore integrated with mode: Writing code\n",
            "Imputed AINextLess integrated with mode: Writing code\n",
            "Imputed AINextMuch less integrated with mode: Writing code\n",
            "Imputed AIThreat with mode: No\n",
            "Imputed AIEthics with mode: Circulating misinformation or disinformation;Missing or incorrect attribution for sources of data;Biased results that do not represent diverse viewpoints\n",
            "Imputed AIChallenges with mode: Don’t trust the output or answers;AI tools lack context of codebase,  internal architecture, and/or company knowledge\n",
            "Imputed TBranch with mode: Yes\n",
            "Imputed ICorPM with mode: Individual contributor\n",
            "Imputed Knowledge_1 with mode: Agree\n",
            "Imputed Knowledge_2 with mode: Agree\n",
            "Imputed Knowledge_3 with mode: Agree\n",
            "Imputed Knowledge_4 with mode: Agree\n",
            "Imputed Knowledge_5 with mode: Agree\n",
            "Imputed Knowledge_6 with mode: Agree\n",
            "Imputed Knowledge_7 with mode: Agree\n",
            "Imputed Knowledge_8 with mode: Agree\n",
            "Imputed Knowledge_9 with mode: Agree\n",
            "Imputed Frequency_1 with mode: 1-2 times a week\n",
            "Imputed Frequency_2 with mode: 1-2 times a week\n",
            "Imputed Frequency_3 with mode: 1-2 times a week\n",
            "Imputed TimeSearching with mode: 30-60 minutes a day\n",
            "Imputed TimeAnswering with mode: 15-30 minutes a day\n",
            "Imputed Frustration with mode: None of these\n",
            "Imputed ProfessionalTech with mode: None of these\n",
            "Imputed ProfessionalCloud with mode: Hybrid (on-prem and cloud)\n",
            "Imputed ProfessionalQuestion with mode: Traditional public search engine\n",
            "Imputed Industry with mode: Software Development\n",
            "Imputed SurveyLength with mode: Appropriate in length\n",
            "Imputed SurveyEase with mode: Easy\n"
          ]
        }
      ],
      "source": [
        "# Impute missing values in RemoteWork with most frequent value\n",
        "if 'RemoteWork' in df.columns:\n",
        "    print(f\"Missing values in RemoteWork before imputation: {df['RemoteWork'].isnull().sum()}\")\n",
        "\n",
        "    # Find most frequent value\n",
        "    mode_remote = df['RemoteWork'].mode()[0]\n",
        "    print(f\"Most frequent RemoteWork value: {mode_remote}\")\n",
        "\n",
        "    # Impute missing values\n",
        "    df['RemoteWork'].fillna(mode_remote, inplace=True)\n",
        "\n",
        "    print(f\"Missing values in RemoteWork after imputation: {df['RemoteWork'].isnull().sum()}\")\n",
        "else:\n",
        "    print(\"RemoteWork column not found.\")\n",
        "\n",
        "# Impute other categorical columns\n",
        "categorical_cols = df.select_dtypes(include=['object']).columns\n",
        "print(f\"\\nImputing missing values in categorical columns:\")\n",
        "\n",
        "for col in categorical_cols:\n",
        "    if df[col].isnull().sum() > 0:\n",
        "        mode_val = df[col].mode()\n",
        "        if len(mode_val) > 0:\n",
        "            df[col].fillna(mode_val[0], inplace=True)\n",
        "            print(f\"Imputed {col} with mode: {mode_val[0]}\")"
      ],
      "execution_count": 11
    },
    {
      "cell_type": "markdown",
      "metadata": {
        "id": "df590266-80ce-41e6-aec8-0e535b770629"
      },
      "source": [
        "### 6. Feature Scaling and Transformation\n"
      ]
    },
    {
      "cell_type": "markdown",
      "metadata": {
        "id": "11ac8b9d-3b1a-472f-b49a-d8d0299204dc"
      },
      "source": [
        "<h5>6.1 Apply Min-Max Scaling to normalize the `ConvertedCompYearly` column.</h5>\n"
      ]
    },
    {
      "cell_type": "code",
      "metadata": {
        "colab": {
          "base_uri": "https://localhost:8080/"
        },
        "id": "241cb998-7b86-412a-b45c-9463c1bbf02a",
        "outputId": "367abc2e-ce34-4f15-a542-8cc469a5eccb"
      },
      "outputs": [
        {
          "output_type": "stream",
          "name": "stdout",
          "text": [
            "Original ConvertedCompYearly statistics:\n",
            "count    6.543700e+04\n",
            "mean     7.257636e+04\n",
            "std      1.122207e+05\n",
            "min      1.000000e+00\n",
            "25%      6.500000e+04\n",
            "50%      6.500000e+04\n",
            "75%      6.500000e+04\n",
            "max      1.625660e+07\n",
            "Name: ConvertedCompYearly, dtype: float64\n",
            "\n",
            "Scaled ConvertedCompYearly statistics:\n",
            "count    65437.000000\n",
            "mean         0.004464\n",
            "std          0.006903\n",
            "min          0.000000\n",
            "25%          0.003998\n",
            "50%          0.003998\n",
            "75%          0.003998\n",
            "max          1.000000\n",
            "Name: ConvertedCompYearly_scaled, dtype: float64\n",
            "\n",
            "Min-Max scaling applied successfully!\n"
          ]
        }
      ],
      "source": [
        "# Apply Min-Max scaling to ConvertedCompYearly\n",
        "from sklearn.preprocessing import MinMaxScaler\n",
        "\n",
        "if 'ConvertedCompYearly' in df.columns:\n",
        "    # Initialize scaler\n",
        "    scaler = MinMaxScaler()\n",
        "\n",
        "    # Apply scaling\n",
        "    df['ConvertedCompYearly_scaled'] = scaler.fit_transform(df[['ConvertedCompYearly']])\n",
        "\n",
        "    print(\"Original ConvertedCompYearly statistics:\")\n",
        "    print(df['ConvertedCompYearly'].describe())\n",
        "    print(\"\\nScaled ConvertedCompYearly statistics:\")\n",
        "    print(df['ConvertedCompYearly_scaled'].describe())\n",
        "\n",
        "    print(\"\\nMin-Max scaling applied successfully!\")\n",
        "else:\n",
        "    print(\"ConvertedCompYearly column not found.\")"
      ],
      "execution_count": 12
    },
    {
      "cell_type": "markdown",
      "metadata": {
        "id": "e556a89e-8ab3-4eaa-9d75-ced79f89ed2c"
      },
      "source": [
        "<h5>6.2 Log-transform the ConvertedCompYearly column to reduce skewness.</h5>\n"
      ]
    },
    {
      "cell_type": "code",
      "metadata": {
        "colab": {
          "base_uri": "https://localhost:8080/"
        },
        "id": "5523f80b-9bcd-4761-a6ad-4f4705687f7f",
        "outputId": "cb8ff48e-e875-4a28-8877-c3d894e89cec"
      },
      "outputs": [
        {
          "output_type": "stream",
          "name": "stdout",
          "text": [
            "Original skewness: 87.708\n",
            "Log-transformed skewness: -4.282\n",
            "\n",
            "Original ConvertedCompYearly statistics:\n",
            "count    6.543700e+04\n",
            "mean     7.257636e+04\n",
            "std      1.122207e+05\n",
            "min      1.000000e+00\n",
            "25%      6.500000e+04\n",
            "50%      6.500000e+04\n",
            "75%      6.500000e+04\n",
            "max      1.625660e+07\n",
            "Name: ConvertedCompYearly, dtype: float64\n",
            "\n",
            "Log-transformed ConvertedCompYearly statistics:\n",
            "count    65437.000000\n",
            "mean        10.976053\n",
            "std          0.851456\n",
            "min          0.693147\n",
            "25%         11.082158\n",
            "50%         11.082158\n",
            "75%         11.082158\n",
            "max         16.604010\n",
            "Name: ConvertedCompYearly_log, dtype: float64\n",
            "\n",
            "Log transformation applied successfully!\n"
          ]
        }
      ],
      "source": [
        "# Log-transform ConvertedCompYearly to reduce skewness\n",
        "import numpy as np\n",
        "\n",
        "if 'ConvertedCompYearly' in df.columns:\n",
        "    # Check original skewness\n",
        "    original_skewness = df['ConvertedCompYearly'].skew()\n",
        "    print(f\"Original skewness: {original_skewness:.3f}\")\n",
        "\n",
        "    # Apply log transformation (add 1 to handle zeros)\n",
        "    df['ConvertedCompYearly_log'] = np.log1p(df['ConvertedCompYearly'])\n",
        "\n",
        "    # Check new skewness\n",
        "    log_skewness = df['ConvertedCompYearly_log'].skew()\n",
        "    print(f\"Log-transformed skewness: {log_skewness:.3f}\")\n",
        "\n",
        "    print(\"\\nOriginal ConvertedCompYearly statistics:\")\n",
        "    print(df['ConvertedCompYearly'].describe())\n",
        "    print(\"\\nLog-transformed ConvertedCompYearly statistics:\")\n",
        "    print(df['ConvertedCompYearly_log'].describe())\n",
        "\n",
        "    print(\"\\nLog transformation applied successfully!\")\n",
        "else:\n",
        "    print(\"ConvertedCompYearly column not found.\")"
      ],
      "execution_count": 13
    },
    {
      "cell_type": "markdown",
      "metadata": {
        "id": "5d04a76c-224c-4182-9f4c-ff0ed5bac396"
      },
      "source": [
        "### 7. Feature Engineering\n"
      ]
    },
    {
      "cell_type": "markdown",
      "metadata": {
        "id": "a7cd7cc2-4615-4c03-a2a9-ed6a30ef2556"
      },
      "source": [
        "<h5>7.1 Create a new column `ExperienceLevel` based on the `YearsCodePro` column:</h5>\n"
      ]
    },
    {
      "cell_type": "code",
      "metadata": {
        "colab": {
          "base_uri": "https://localhost:8080/",
          "height": 1000
        },
        "id": "036d111c-2aac-4f34-9995-5d9fc75b1053",
        "outputId": "37e9b9f6-683b-4219-9a4f-59310ff126f7"
      },
      "outputs": [
        {
          "output_type": "stream",
          "name": "stdout",
          "text": [
            "Original YearsCodePro distribution:\n",
            "YearsCodePro\n",
            "1                      2639\n",
            "10                     3251\n",
            "11                     1312\n",
            "12                     1777\n",
            "13                     1127\n",
            "14                     1082\n",
            "15                     1635\n",
            "16                      946\n",
            "17                      814\n",
            "18                      867\n",
            "19                      516\n",
            "2                     17995\n",
            "20                     1549\n",
            "21                      380\n",
            "22                      492\n",
            "23                      448\n",
            "24                      632\n",
            "25                      998\n",
            "26                      426\n",
            "27                      380\n",
            "28                      342\n",
            "29                      196\n",
            "3                      4093\n",
            "30                      689\n",
            "31                      106\n",
            "32                      194\n",
            "33                      132\n",
            "34                      169\n",
            "35                      285\n",
            "36                      119\n",
            "37                      104\n",
            "38                      134\n",
            "39                       54\n",
            "4                      3215\n",
            "40                      194\n",
            "41                       51\n",
            "42                       55\n",
            "43                       37\n",
            "44                       42\n",
            "45                       56\n",
            "46                       21\n",
            "47                       10\n",
            "48                       14\n",
            "49                       11\n",
            "5                      3526\n",
            "50                       14\n",
            "6                      2843\n",
            "7                      2517\n",
            "8                      2549\n",
            "9                      1493\n",
            "Less than 1 year       2856\n",
            "More than 50 years       50\n",
            "Name: count, dtype: int64\n"
          ]
        },
        {
          "output_type": "error",
          "ename": "TypeError",
          "evalue": "'<=' not supported between instances of 'int' and 'str'",
          "traceback": [
            "\u001b[0;31m---------------------------------------------------------------------------\u001b[0m",
            "\u001b[0;31mTypeError\u001b[0m                                 Traceback (most recent call last)",
            "\u001b[0;32m/tmp/ipython-input-1314279568.py\u001b[0m in \u001b[0;36m<cell line: 0>\u001b[0;34m()\u001b[0m\n\u001b[1;32m     20\u001b[0m \u001b[0;34m\u001b[0m\u001b[0m\n\u001b[1;32m     21\u001b[0m     \u001b[0;31m# Apply categorization\u001b[0m\u001b[0;34m\u001b[0m\u001b[0;34m\u001b[0m\u001b[0m\n\u001b[0;32m---> 22\u001b[0;31m     \u001b[0mdf\u001b[0m\u001b[0;34m[\u001b[0m\u001b[0;34m'ExperienceLevel'\u001b[0m\u001b[0;34m]\u001b[0m \u001b[0;34m=\u001b[0m \u001b[0mdf\u001b[0m\u001b[0;34m[\u001b[0m\u001b[0;34m'YearsCodePro'\u001b[0m\u001b[0;34m]\u001b[0m\u001b[0;34m.\u001b[0m\u001b[0mapply\u001b[0m\u001b[0;34m(\u001b[0m\u001b[0mcategorize_experience\u001b[0m\u001b[0;34m)\u001b[0m\u001b[0;34m\u001b[0m\u001b[0;34m\u001b[0m\u001b[0m\n\u001b[0m\u001b[1;32m     23\u001b[0m \u001b[0;34m\u001b[0m\u001b[0m\n\u001b[1;32m     24\u001b[0m     \u001b[0mprint\u001b[0m\u001b[0;34m(\u001b[0m\u001b[0;34m\"\\nExperienceLevel distribution:\"\u001b[0m\u001b[0;34m)\u001b[0m\u001b[0;34m\u001b[0m\u001b[0;34m\u001b[0m\u001b[0m\n",
            "\u001b[0;32m/usr/local/lib/python3.12/dist-packages/pandas/core/series.py\u001b[0m in \u001b[0;36mapply\u001b[0;34m(self, func, convert_dtype, args, by_row, **kwargs)\u001b[0m\n\u001b[1;32m   4922\u001b[0m             \u001b[0margs\u001b[0m\u001b[0;34m=\u001b[0m\u001b[0margs\u001b[0m\u001b[0;34m,\u001b[0m\u001b[0;34m\u001b[0m\u001b[0;34m\u001b[0m\u001b[0m\n\u001b[1;32m   4923\u001b[0m             \u001b[0mkwargs\u001b[0m\u001b[0;34m=\u001b[0m\u001b[0mkwargs\u001b[0m\u001b[0;34m,\u001b[0m\u001b[0;34m\u001b[0m\u001b[0;34m\u001b[0m\u001b[0m\n\u001b[0;32m-> 4924\u001b[0;31m         ).apply()\n\u001b[0m\u001b[1;32m   4925\u001b[0m \u001b[0;34m\u001b[0m\u001b[0m\n\u001b[1;32m   4926\u001b[0m     def _reindex_indexer(\n",
            "\u001b[0;32m/usr/local/lib/python3.12/dist-packages/pandas/core/apply.py\u001b[0m in \u001b[0;36mapply\u001b[0;34m(self)\u001b[0m\n\u001b[1;32m   1425\u001b[0m \u001b[0;34m\u001b[0m\u001b[0m\n\u001b[1;32m   1426\u001b[0m         \u001b[0;31m# self.func is Callable\u001b[0m\u001b[0;34m\u001b[0m\u001b[0;34m\u001b[0m\u001b[0m\n\u001b[0;32m-> 1427\u001b[0;31m         \u001b[0;32mreturn\u001b[0m \u001b[0mself\u001b[0m\u001b[0;34m.\u001b[0m\u001b[0mapply_standard\u001b[0m\u001b[0;34m(\u001b[0m\u001b[0;34m)\u001b[0m\u001b[0;34m\u001b[0m\u001b[0;34m\u001b[0m\u001b[0m\n\u001b[0m\u001b[1;32m   1428\u001b[0m \u001b[0;34m\u001b[0m\u001b[0m\n\u001b[1;32m   1429\u001b[0m     \u001b[0;32mdef\u001b[0m \u001b[0magg\u001b[0m\u001b[0;34m(\u001b[0m\u001b[0mself\u001b[0m\u001b[0;34m)\u001b[0m\u001b[0;34m:\u001b[0m\u001b[0;34m\u001b[0m\u001b[0;34m\u001b[0m\u001b[0m\n",
            "\u001b[0;32m/usr/local/lib/python3.12/dist-packages/pandas/core/apply.py\u001b[0m in \u001b[0;36mapply_standard\u001b[0;34m(self)\u001b[0m\n\u001b[1;32m   1505\u001b[0m         \u001b[0;31m#  Categorical (GH51645).\u001b[0m\u001b[0;34m\u001b[0m\u001b[0;34m\u001b[0m\u001b[0m\n\u001b[1;32m   1506\u001b[0m         \u001b[0maction\u001b[0m \u001b[0;34m=\u001b[0m \u001b[0;34m\"ignore\"\u001b[0m \u001b[0;32mif\u001b[0m \u001b[0misinstance\u001b[0m\u001b[0;34m(\u001b[0m\u001b[0mobj\u001b[0m\u001b[0;34m.\u001b[0m\u001b[0mdtype\u001b[0m\u001b[0;34m,\u001b[0m \u001b[0mCategoricalDtype\u001b[0m\u001b[0;34m)\u001b[0m \u001b[0;32melse\u001b[0m \u001b[0;32mNone\u001b[0m\u001b[0;34m\u001b[0m\u001b[0;34m\u001b[0m\u001b[0m\n\u001b[0;32m-> 1507\u001b[0;31m         mapped = obj._map_values(\n\u001b[0m\u001b[1;32m   1508\u001b[0m             \u001b[0mmapper\u001b[0m\u001b[0;34m=\u001b[0m\u001b[0mcurried\u001b[0m\u001b[0;34m,\u001b[0m \u001b[0mna_action\u001b[0m\u001b[0;34m=\u001b[0m\u001b[0maction\u001b[0m\u001b[0;34m,\u001b[0m \u001b[0mconvert\u001b[0m\u001b[0;34m=\u001b[0m\u001b[0mself\u001b[0m\u001b[0;34m.\u001b[0m\u001b[0mconvert_dtype\u001b[0m\u001b[0;34m\u001b[0m\u001b[0;34m\u001b[0m\u001b[0m\n\u001b[1;32m   1509\u001b[0m         )\n",
            "\u001b[0;32m/usr/local/lib/python3.12/dist-packages/pandas/core/base.py\u001b[0m in \u001b[0;36m_map_values\u001b[0;34m(self, mapper, na_action, convert)\u001b[0m\n\u001b[1;32m    919\u001b[0m             \u001b[0;32mreturn\u001b[0m \u001b[0marr\u001b[0m\u001b[0;34m.\u001b[0m\u001b[0mmap\u001b[0m\u001b[0;34m(\u001b[0m\u001b[0mmapper\u001b[0m\u001b[0;34m,\u001b[0m \u001b[0mna_action\u001b[0m\u001b[0;34m=\u001b[0m\u001b[0mna_action\u001b[0m\u001b[0;34m)\u001b[0m\u001b[0;34m\u001b[0m\u001b[0;34m\u001b[0m\u001b[0m\n\u001b[1;32m    920\u001b[0m \u001b[0;34m\u001b[0m\u001b[0m\n\u001b[0;32m--> 921\u001b[0;31m         \u001b[0;32mreturn\u001b[0m \u001b[0malgorithms\u001b[0m\u001b[0;34m.\u001b[0m\u001b[0mmap_array\u001b[0m\u001b[0;34m(\u001b[0m\u001b[0marr\u001b[0m\u001b[0;34m,\u001b[0m \u001b[0mmapper\u001b[0m\u001b[0;34m,\u001b[0m \u001b[0mna_action\u001b[0m\u001b[0;34m=\u001b[0m\u001b[0mna_action\u001b[0m\u001b[0;34m,\u001b[0m \u001b[0mconvert\u001b[0m\u001b[0;34m=\u001b[0m\u001b[0mconvert\u001b[0m\u001b[0;34m)\u001b[0m\u001b[0;34m\u001b[0m\u001b[0;34m\u001b[0m\u001b[0m\n\u001b[0m\u001b[1;32m    922\u001b[0m \u001b[0;34m\u001b[0m\u001b[0m\n\u001b[1;32m    923\u001b[0m     \u001b[0;34m@\u001b[0m\u001b[0mfinal\u001b[0m\u001b[0;34m\u001b[0m\u001b[0;34m\u001b[0m\u001b[0m\n",
            "\u001b[0;32m/usr/local/lib/python3.12/dist-packages/pandas/core/algorithms.py\u001b[0m in \u001b[0;36mmap_array\u001b[0;34m(arr, mapper, na_action, convert)\u001b[0m\n\u001b[1;32m   1741\u001b[0m     \u001b[0mvalues\u001b[0m \u001b[0;34m=\u001b[0m \u001b[0marr\u001b[0m\u001b[0;34m.\u001b[0m\u001b[0mastype\u001b[0m\u001b[0;34m(\u001b[0m\u001b[0mobject\u001b[0m\u001b[0;34m,\u001b[0m \u001b[0mcopy\u001b[0m\u001b[0;34m=\u001b[0m\u001b[0;32mFalse\u001b[0m\u001b[0;34m)\u001b[0m\u001b[0;34m\u001b[0m\u001b[0;34m\u001b[0m\u001b[0m\n\u001b[1;32m   1742\u001b[0m     \u001b[0;32mif\u001b[0m \u001b[0mna_action\u001b[0m \u001b[0;32mis\u001b[0m \u001b[0;32mNone\u001b[0m\u001b[0;34m:\u001b[0m\u001b[0;34m\u001b[0m\u001b[0;34m\u001b[0m\u001b[0m\n\u001b[0;32m-> 1743\u001b[0;31m         \u001b[0;32mreturn\u001b[0m \u001b[0mlib\u001b[0m\u001b[0;34m.\u001b[0m\u001b[0mmap_infer\u001b[0m\u001b[0;34m(\u001b[0m\u001b[0mvalues\u001b[0m\u001b[0;34m,\u001b[0m \u001b[0mmapper\u001b[0m\u001b[0;34m,\u001b[0m \u001b[0mconvert\u001b[0m\u001b[0;34m=\u001b[0m\u001b[0mconvert\u001b[0m\u001b[0;34m)\u001b[0m\u001b[0;34m\u001b[0m\u001b[0;34m\u001b[0m\u001b[0m\n\u001b[0m\u001b[1;32m   1744\u001b[0m     \u001b[0;32melse\u001b[0m\u001b[0;34m:\u001b[0m\u001b[0;34m\u001b[0m\u001b[0;34m\u001b[0m\u001b[0m\n\u001b[1;32m   1745\u001b[0m         return lib.map_infer_mask(\n",
            "\u001b[0;32mlib.pyx\u001b[0m in \u001b[0;36mpandas._libs.lib.map_infer\u001b[0;34m()\u001b[0m\n",
            "\u001b[0;32m/tmp/ipython-input-1314279568.py\u001b[0m in \u001b[0;36mcategorize_experience\u001b[0;34m(years)\u001b[0m\n\u001b[1;32m     10\u001b[0m         \u001b[0;32melif\u001b[0m \u001b[0myears\u001b[0m \u001b[0;34m==\u001b[0m \u001b[0;36m0\u001b[0m\u001b[0;34m:\u001b[0m\u001b[0;34m\u001b[0m\u001b[0;34m\u001b[0m\u001b[0m\n\u001b[1;32m     11\u001b[0m             \u001b[0;32mreturn\u001b[0m \u001b[0;34m'Entry Level'\u001b[0m\u001b[0;34m\u001b[0m\u001b[0;34m\u001b[0m\u001b[0m\n\u001b[0;32m---> 12\u001b[0;31m         \u001b[0;32melif\u001b[0m \u001b[0;36m1\u001b[0m \u001b[0;34m<=\u001b[0m \u001b[0myears\u001b[0m \u001b[0;34m<=\u001b[0m \u001b[0;36m2\u001b[0m\u001b[0;34m:\u001b[0m\u001b[0;34m\u001b[0m\u001b[0;34m\u001b[0m\u001b[0m\n\u001b[0m\u001b[1;32m     13\u001b[0m             \u001b[0;32mreturn\u001b[0m \u001b[0;34m'Junior'\u001b[0m\u001b[0;34m\u001b[0m\u001b[0;34m\u001b[0m\u001b[0m\n\u001b[1;32m     14\u001b[0m         \u001b[0;32melif\u001b[0m \u001b[0;36m3\u001b[0m \u001b[0;34m<=\u001b[0m \u001b[0myears\u001b[0m \u001b[0;34m<=\u001b[0m \u001b[0;36m5\u001b[0m\u001b[0;34m:\u001b[0m\u001b[0;34m\u001b[0m\u001b[0;34m\u001b[0m\u001b[0m\n",
            "\u001b[0;31mTypeError\u001b[0m: '<=' not supported between instances of 'int' and 'str'"
          ]
        }
      ],
      "source": [
        "# Create ExperienceLevel based on YearsCodePro\n",
        "if 'YearsCodePro' in df.columns:\n",
        "    print(\"Original YearsCodePro distribution:\")\n",
        "    print(df['YearsCodePro'].value_counts().sort_index())\n",
        "\n",
        "    # Define experience level categories\n",
        "    def categorize_experience(years):\n",
        "        if pd.isna(years):\n",
        "            return 'Unknown'\n",
        "        elif years == 0:\n",
        "            return 'Entry Level'\n",
        "        elif 1 <= years <= 2:\n",
        "            return 'Junior'\n",
        "        elif 3 <= years <= 5:\n",
        "            return 'Mid Level'\n",
        "        elif 6 <= years <= 10:\n",
        "            return 'Senior'\n",
        "        else:\n",
        "            return 'Expert'\n",
        "\n",
        "    # Apply categorization\n",
        "    df['ExperienceLevel'] = df['YearsCodePro'].apply(categorize_experience)\n",
        "\n",
        "    print(\"\\nExperienceLevel distribution:\")\n",
        "    print(df['ExperienceLevel'].value_counts())\n",
        "\n",
        "    print(\"\\nFeature engineering completed successfully!\")\n",
        "else:\n",
        "    print(\"YearsCodePro column not found. Available columns:\")\n",
        "    numerical_cols = df.select_dtypes(include=['int64', 'float64']).columns\n",
        "    print([col for col in numerical_cols if 'year' in col.lower() or 'experience' in col.lower()])"
      ],
      "execution_count": 14
    },
    {
      "cell_type": "markdown",
      "metadata": {
        "id": "9cb9db65-501b-4f0a-b514-5b77fe7172b1"
      },
      "source": [
        "### Summary\n"
      ]
    },
    {
      "cell_type": "markdown",
      "metadata": {
        "id": "10613a56-101f-4d4e-8d03-08bb7c5f54bc"
      },
      "source": [
        "In this lab, you:\n",
        "\n",
        "- Explored the dataset to identify inconsistencies and missing values.\n",
        "\n",
        "- Encoded categorical variables for analysis.\n",
        "\n",
        "- Handled missing values using imputation techniques.\n",
        "\n",
        "- Normalized and transformed numerical data to prepare it for analysis.\n",
        "\n",
        "- Engineered a new feature to enhance data interpretation.\n"
      ]
    },
    {
      "cell_type": "markdown",
      "metadata": {
        "id": "d65b9608-d5e2-4b31-a8ce-09231fafce5f"
      },
      "source": [
        "Copyright © IBM Corporation. All rights reserved.\n"
      ]
    },
    {
      "cell_type": "code",
      "source": [],
      "metadata": {
        "id": "W1tq-zQt2Ta3"
      },
      "execution_count": null,
      "outputs": []
    }
  ],
  "metadata": {
    "kernelspec": {
      "display_name": "Python 3 (ipykernel)",
      "language": "python",
      "name": "python3"
    },
    "language_info": {
      "codemirror_mode": {
        "name": "ipython",
        "version": 3
      },
      "file_extension": ".py",
      "mimetype": "text/x-python",
      "name": "python",
      "nbconvert_exporter": "python",
      "pygments_lexer": "ipython3",
      "version": "3.11.9"
    },
    "prev_pub_hash": "1e8e234f19fd098e27b0518a87f18de690e1c51f1d3263d5690927d19971251e",
    "colab": {
      "provenance": [],
      "include_colab_link": true
    }
  },
  "nbformat": 4,
  "nbformat_minor": 0
}